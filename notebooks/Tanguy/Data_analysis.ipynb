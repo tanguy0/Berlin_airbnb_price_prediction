{
 "cells": [
  {
   "cell_type": "code",
   "execution_count": 2,
   "metadata": {},
   "outputs": [],
   "source": [
    "import pandas as pd\n",
    "import numpy as np\n",
    "import copy"
   ]
  },
  {
   "cell_type": "markdown",
   "metadata": {},
   "source": [
    "# Import data"
   ]
  },
  {
   "cell_type": "code",
   "execution_count": 3,
   "metadata": {},
   "outputs": [],
   "source": [
    "data = pd.read_csv('../../data/train_airbnb_berlin.csv', delimiter = ',')"
   ]
  },
  {
   "cell_type": "markdown",
   "metadata": {},
   "source": [
    "# Data analysis "
   ]
  },
  {
   "cell_type": "code",
   "execution_count": 4,
   "metadata": {},
   "outputs": [
    {
     "data": {
      "text/plain": [
       "\"\\n'Listing ID' : useless, take out of data\\n'Listing Name' : useless, take out of data\\n'Host ID' : transform feature to number of listings\\n'Host Name' : useless, take out of data (except if we can separate by gender --> new feature gender of host)\\n'Host Since' : transform date into a continuous number\\n'Host Response Time': build 4 discrete values + unknown for NaNs\\n'Host Response Rate': transform percentage to number + treat NaNs\\n'Is Superhost' : transform to binary 0, 1\\n'neighbourhood' : tranform classes to numbers (not sure, think about it)\\n'Neighbourhood Group' : transform classes to numbers, but is this feature usefull ??\\n'City' : useless, take out of data\\n'Postal Code' : leave as is\\n'Country' : useless, take out of data\\n'Country Code' : useless, take out of data\\n'Latitude' : keep as is\\n'Longitude' : keep as is + we could think of a feature combining Latitude and Longitude\\n'Is Exact Location' : transform to binary\\n'Property Type' : transform classes to numbers\\n'Room Type' : transform to 3 discrete variables\\n'Accomodates' : leave as is\\n'Bathrooms' : leave as is\\n'Bedrooms' : leave as is\\n'Beds' : leave as is\\n'Square Feet' : take out of data because 98% of NaNs\\n'Guests Included' : leave as is\\n'Min Nights' : leave as is\\n'Reviews' : leave as is (number of reviews)\\n'First Review' : transform date into a continuous number\\n'Last Review' : transform date into a continuous number\\n'Overall Rating' : leave as is\\n'Accuracy Rating' : leave as is\\n'Cleanliness Rating' : leave as is\\n'Checkin Rating' : leave as is\\n'Communication Rating' : leave as is\\n'Location Rating' : leave as is\\n'Value Rating' : leave as is\\n'Instant Bookable' : transform to binary\\n'Business Travel Ready' : useless all false\\n'Price' : leave as is\\n\""
      ]
     },
     "execution_count": 4,
     "metadata": {},
     "output_type": "execute_result"
    }
   ],
   "source": [
    "data.head()\n",
    "\n",
    "'''\n",
    "'Listing ID' : useless, take out of data\n",
    "'Listing Name' : useless, take out of data\n",
    "'Host ID' : transform feature to number of listings\n",
    "'Host Name' : useless, take out of data (except if we can separate by gender --> new feature gender of host)\n",
    "'Host Since' : transform date into a continuous number\n",
    "'Host Response Time': build 4 discrete values + unknown for NaNs\n",
    "'Host Response Rate': transform percentage to number + treat NaNs\n",
    "'Is Superhost' : transform to binary 0, 1\n",
    "'neighbourhood' : tranform classes to numbers (not sure, think about it)\n",
    "'Neighbourhood Group' : transform classes to numbers, but is this feature usefull ??\n",
    "'City' : useless, take out of data\n",
    "'Postal Code' : leave as is\n",
    "'Country' : useless, take out of data\n",
    "'Country Code' : useless, take out of data\n",
    "'Latitude' : keep as is\n",
    "'Longitude' : keep as is + we could think of a feature combining Latitude and Longitude\n",
    "'Is Exact Location' : transform to binary\n",
    "'Property Type' : transform classes to numbers\n",
    "'Room Type' : transform to 3 discrete variables\n",
    "'Accomodates' : leave as is\n",
    "'Bathrooms' : leave as is\n",
    "'Bedrooms' : leave as is\n",
    "'Beds' : leave as is\n",
    "'Square Feet' : take out of data because 98% of NaNs\n",
    "'Guests Included' : leave as is\n",
    "'Min Nights' : leave as is\n",
    "'Reviews' : leave as is (number of reviews)\n",
    "'First Review' : transform date into a continuous number\n",
    "'Last Review' : transform date into a continuous number\n",
    "'Overall Rating' : leave as is\n",
    "'Accuracy Rating' : leave as is\n",
    "'Cleanliness Rating' : leave as is\n",
    "'Checkin Rating' : leave as is\n",
    "'Communication Rating' : leave as is\n",
    "'Location Rating' : leave as is\n",
    "'Value Rating' : leave as is\n",
    "'Instant Bookable' : transform to binary\n",
    "'Business Travel Ready' : useless all false\n",
    "'Price' : leave as is\n",
    "'''"
   ]
  },
  {
   "cell_type": "code",
   "execution_count": 5,
   "metadata": {},
   "outputs": [
    {
     "data": {
      "text/plain": [
       "(15692, 39)"
      ]
     },
     "execution_count": 5,
     "metadata": {},
     "output_type": "execute_result"
    }
   ],
   "source": [
    "data.shape"
   ]
  },
  {
   "cell_type": "code",
   "execution_count": 6,
   "metadata": {},
   "outputs": [
    {
     "data": {
      "text/plain": [
       "Listing ID               0.000064\n",
       "Listing Name             0.003441\n",
       "Host ID                  0.000000\n",
       "Host Name                0.001402\n",
       "Host Since               0.001338\n",
       "Host Response Time       0.450867\n",
       "Host Response Rate       0.450867\n",
       "Is Superhost             0.001466\n",
       "neighbourhood            0.000000\n",
       "Neighborhood Group       0.000000\n",
       "City                     0.000064\n",
       "Postal Code              0.014593\n",
       "Country Code             0.000000\n",
       "Country                  0.000000\n",
       "Latitude                 0.000000\n",
       "Longitude                0.000000\n",
       "Is Exact Location        0.000000\n",
       "Property Type            0.000000\n",
       "Room Type                0.000000\n",
       "Accomodates              0.000000\n",
       "Bathrooms                0.000892\n",
       "Bedrooms                 0.000319\n",
       "Beds                     0.000510\n",
       "Square Feet              0.980691\n",
       "Guests Included          0.000000\n",
       "Min Nights               0.000000\n",
       "Reviews                  0.000000\n",
       "First Review             0.172381\n",
       "Last Review              0.172445\n",
       "Overall Rating           0.188759\n",
       "Accuracy Rating          0.189332\n",
       "Cleanliness Rating       0.189268\n",
       "Checkin Rating           0.189460\n",
       "Communication Rating     0.189268\n",
       "Location Rating          0.189332\n",
       "Value Rating             0.189396\n",
       "Instant Bookable         0.000000\n",
       "Business Travel Ready    0.000000\n",
       "Price                    0.000574\n",
       "dtype: float64"
      ]
     },
     "execution_count": 6,
     "metadata": {},
     "output_type": "execute_result"
    }
   ],
   "source": [
    "data.isnull().sum()/data.shape[0]"
   ]
  },
  {
   "cell_type": "code",
   "execution_count": 7,
   "metadata": {},
   "outputs": [
    {
     "data": {
      "text/plain": [
       "0        10437.0\n",
       "1        13187.0\n",
       "2        10439.0\n",
       "3          10245\n",
       "4        10405.0\n",
       "          ...   \n",
       "15687    10961.0\n",
       "15688    12055.0\n",
       "15689    13351.0\n",
       "15690    12159.0\n",
       "15691      10315\n",
       "Name: Postal Code, Length: 15692, dtype: object"
      ]
     },
     "execution_count": 7,
     "metadata": {},
     "output_type": "execute_result"
    }
   ],
   "source": [
    "data['Postal Code']"
   ]
  },
  {
   "cell_type": "code",
   "execution_count": 14,
   "metadata": {},
   "outputs": [
    {
     "data": {
      "text/plain": [
       "array(['10437.0', '13187.0', '10439.0', '10245', '10405.0', '*', '10997',\n",
       "       '10961.0', '10553.0', '14197.0', '12047.0', '12435.0', '10781.0',\n",
       "       '13407', nan, '13086.0', '12055.0', '10245.0', '12161.0',\n",
       "       '10249.0', '10555.0', '13353.0', '10999.0', '12053.0', '10969.0',\n",
       "       '10629.0', '10709.0', '13357', '10967.0', '12167.0', '13347.0',\n",
       "       '10407', '12049', '12437.0', '10247', '10249', '10407.0',\n",
       "       '12049.0', '13055.0', '10317.0', '10178.0', '10787.0', '12055',\n",
       "       '10997.0', '10965', '12059.0', '10829.0', '12157.0', '13359.0',\n",
       "       '10115.0', '10119.0', '13357.0', '10409.0', '10179.0', '12051',\n",
       "       '10365', '12159.0', '10711', '10405', '10435.0', '10963.0',\n",
       "       '12043', '12045.0', '10551', '10961', '10247.0', '10823.0',\n",
       "       '10627.0', '10369.0', '12043.0', '10585.0', '10967', '10439',\n",
       "       '10999', '10587.0', '12203.0', '10437', '12099.0', '10965.0',\n",
       "       '10243.0', '10783.0', '12623.0', '10589.0', '12045', '10777',\n",
       "       '10777.0', '10969', '13407.0', '13189.0', '13347', '10555',\n",
       "       '12051.0', '10117.0', '10717', '10179', '10117', '13507.0',\n",
       "       '12589.0', '10559', '10115', '12587.0', '14059', '12057.0',\n",
       "       '10713.0', '10785.0', '10629', '12347.0', '10318.0', '10719.0',\n",
       "       '13088.0', '10367.0', '10785', '14129.0', '10435', '13355.0',\n",
       "       '13353', '12101.0', '13359', '10178', '12489.0', '14055.0',\n",
       "       '10365.0', '13187', '10779.0', '12059', '14050.0', '10585',\n",
       "       '13086', '10243', '10317', '10553', '10557.0', '12527.0',\n",
       "       '13403.0', '10827', '10409', '10823', '10551.0', '14059.0',\n",
       "       '10315', '12163.0', '13156.0', '10319.0', '12683.0', '10627',\n",
       "       '12047', '10559.0', '10781', '12103.0', '10707.0', '13349.0',\n",
       "       '12099', '10717.0', '10623.0', '12435', '10715.0', '10625.0',\n",
       "       '10557', '12105.0', '12053', '10315.0', '10827.0', '12555.0',\n",
       "       '10963', '10119', '14195.0', '14057.0', '13355', '10825.0',\n",
       "       '10789.0', '12459.0', '13189', '14193.0', '13351.0', '10711.0',\n",
       "       '13409.0', '14057', '14169.0', '14163.0', '13088', '13351',\n",
       "       '10829', '13125.0', '13581.0', '14052.0', '12103'], dtype=object)"
      ]
     },
     "execution_count": 14,
     "metadata": {},
     "output_type": "execute_result"
    }
   ],
   "source": [
    "data['Postal Code'].unique()"
   ]
  },
  {
   "cell_type": "markdown",
   "metadata": {},
   "source": [
    "# Data preprocessing"
   ]
  },
  {
   "cell_type": "code",
   "execution_count": 59,
   "metadata": {},
   "outputs": [],
   "source": [
    "del data['Square Feet']\n",
    "del data['Listing ID']\n",
    "del data['Listing Name']\n",
    "del data['Host Name']\n",
    "del data['City']\n",
    "del data['Country']\n",
    "del data['First Review']\n",
    "del data['Last Review']\n",
    "del data['Business Travel Ready']"
   ]
  },
  {
   "cell_type": "code",
   "execution_count": 65,
   "metadata": {},
   "outputs": [],
   "source": [
    "data[data=='*'] = np.nan"
   ]
  },
  {
   "cell_type": "markdown",
   "metadata": {},
   "source": [
    "### data_1 : just eliminate all instances with NaNs"
   ]
  },
  {
   "cell_type": "code",
   "execution_count": 60,
   "metadata": {},
   "outputs": [
    {
     "name": "stdout",
     "output_type": "stream",
     "text": [
      "<class 'pandas.core.frame.DataFrame'>\n",
      "Int64Index: 7524 entries, 5 to 15690\n",
      "Data columns (total 30 columns):\n",
      " #   Column                Non-Null Count  Dtype  \n",
      "---  ------                --------------  -----  \n",
      " 0   Host ID               7524 non-null   float64\n",
      " 1   Host Since            7524 non-null   object \n",
      " 2   Host Response Time    7524 non-null   object \n",
      " 3   Host Response Rate    7524 non-null   object \n",
      " 4   Is Superhost          7524 non-null   object \n",
      " 5   neighbourhood         7524 non-null   object \n",
      " 6   Neighborhood Group    7524 non-null   object \n",
      " 7   Postal Code           7524 non-null   object \n",
      " 8   Country Code          7524 non-null   object \n",
      " 9   Latitude              7524 non-null   float64\n",
      " 10  Longitude             7524 non-null   float64\n",
      " 11  Is Exact Location     7524 non-null   object \n",
      " 12  Property Type         7524 non-null   object \n",
      " 13  Room Type             7524 non-null   object \n",
      " 14  Accomodates           7524 non-null   object \n",
      " 15  Bathrooms             7524 non-null   object \n",
      " 16  Bedrooms              7524 non-null   object \n",
      " 17  Beds                  7524 non-null   object \n",
      " 18  Guests Included       7524 non-null   object \n",
      " 19  Min Nights            7524 non-null   object \n",
      " 20  Reviews               7524 non-null   int64  \n",
      " 21  Overall Rating        7524 non-null   float64\n",
      " 22  Accuracy Rating       7524 non-null   float64\n",
      " 23  Cleanliness Rating    7524 non-null   float64\n",
      " 24  Checkin Rating        7524 non-null   float64\n",
      " 25  Communication Rating  7524 non-null   float64\n",
      " 26  Location Rating       7524 non-null   float64\n",
      " 27  Value Rating          7524 non-null   float64\n",
      " 28  Instant Bookable      7524 non-null   object \n",
      " 29  Price                 7524 non-null   float64\n",
      "dtypes: float64(11), int64(1), object(18)\n",
      "memory usage: 1.8+ MB\n"
     ]
    }
   ],
   "source": [
    "# Naively drop all instances with NaNs\n",
    "data_1 = data[~data.isnull().any(axis=1)]\n",
    "data_1.info()"
   ]
  },
  {
   "cell_type": "markdown",
   "metadata": {},
   "source": [
    "### data_2 : treat Host Response Time and Host Response Rate then data_1"
   ]
  },
  {
   "cell_type": "code",
   "execution_count": 61,
   "metadata": {},
   "outputs": [
    {
     "name": "stdout",
     "output_type": "stream",
     "text": [
      "<class 'pandas.core.frame.DataFrame'>\n",
      "Int64Index: 12498 entries, 0 to 15690\n",
      "Data columns (total 30 columns):\n",
      " #   Column                Non-Null Count  Dtype  \n",
      "---  ------                --------------  -----  \n",
      " 0   Host ID               12498 non-null  float64\n",
      " 1   Host Since            12498 non-null  object \n",
      " 2   Host Response Time    12498 non-null  object \n",
      " 3   Host Response Rate    12498 non-null  object \n",
      " 4   Is Superhost          12498 non-null  object \n",
      " 5   neighbourhood         12498 non-null  object \n",
      " 6   Neighborhood Group    12498 non-null  object \n",
      " 7   Postal Code           12498 non-null  object \n",
      " 8   Country Code          12498 non-null  object \n",
      " 9   Latitude              12498 non-null  float64\n",
      " 10  Longitude             12498 non-null  float64\n",
      " 11  Is Exact Location     12498 non-null  object \n",
      " 12  Property Type         12498 non-null  object \n",
      " 13  Room Type             12498 non-null  object \n",
      " 14  Accomodates           12498 non-null  object \n",
      " 15  Bathrooms             12498 non-null  object \n",
      " 16  Bedrooms              12498 non-null  object \n",
      " 17  Beds                  12498 non-null  object \n",
      " 18  Guests Included       12498 non-null  object \n",
      " 19  Min Nights            12498 non-null  object \n",
      " 20  Reviews               12498 non-null  int64  \n",
      " 21  Overall Rating        12498 non-null  float64\n",
      " 22  Accuracy Rating       12498 non-null  float64\n",
      " 23  Cleanliness Rating    12498 non-null  float64\n",
      " 24  Checkin Rating        12498 non-null  float64\n",
      " 25  Communication Rating  12498 non-null  float64\n",
      " 26  Location Rating       12498 non-null  float64\n",
      " 27  Value Rating          12498 non-null  float64\n",
      " 28  Instant Bookable      12498 non-null  object \n",
      " 29  Price                 12498 non-null  float64\n",
      "dtypes: float64(11), int64(1), object(18)\n",
      "memory usage: 3.0+ MB\n"
     ]
    },
    {
     "name": "stderr",
     "output_type": "stream",
     "text": [
      "<ipython-input-61-7dbcd05ae5e2>:3: SettingWithCopyWarning: \n",
      "A value is trying to be set on a copy of a slice from a DataFrame\n",
      "\n",
      "See the caveats in the documentation: https://pandas.pydata.org/pandas-docs/stable/user_guide/indexing.html#returning-a-view-versus-a-copy\n",
      "  data_2['Host Response Time'][data_2['Host Response Time'].isnull()] = 'unknown'\n",
      "<ipython-input-61-7dbcd05ae5e2>:4: SettingWithCopyWarning: \n",
      "A value is trying to be set on a copy of a slice from a DataFrame\n",
      "\n",
      "See the caveats in the documentation: https://pandas.pydata.org/pandas-docs/stable/user_guide/indexing.html#returning-a-view-versus-a-copy\n",
      "  data_2['Host Response Rate'][data_2['Host Response Rate'].isnull()] = 'unknown'\n"
     ]
    }
   ],
   "source": [
    "data_2 = copy.copy(data)\n",
    "\n",
    "data_2['Host Response Time'][data_2['Host Response Time'].isnull()] = 'unknown'\n",
    "data_2['Host Response Rate'][data_2['Host Response Rate'].isnull()] = 'unknown'\n",
    "\n",
    "data_2 = data_2[~data_2.isnull().any(axis=1)]\n",
    "\n",
    "data_2.info()"
   ]
  },
  {
   "cell_type": "markdown",
   "metadata": {},
   "source": [
    "### data_3 : data_2 + set ratings to the mean when not given then data_1"
   ]
  },
  {
   "cell_type": "code",
   "execution_count": 62,
   "metadata": {},
   "outputs": [
    {
     "name": "stdout",
     "output_type": "stream",
     "text": [
      "<class 'pandas.core.frame.DataFrame'>\n",
      "Int64Index: 15405 entries, 0 to 15691\n",
      "Data columns (total 30 columns):\n",
      " #   Column                Non-Null Count  Dtype  \n",
      "---  ------                --------------  -----  \n",
      " 0   Host ID               15405 non-null  float64\n",
      " 1   Host Since            15405 non-null  object \n",
      " 2   Host Response Time    15405 non-null  object \n",
      " 3   Host Response Rate    15405 non-null  object \n",
      " 4   Is Superhost          15405 non-null  object \n",
      " 5   neighbourhood         15405 non-null  object \n",
      " 6   Neighborhood Group    15405 non-null  object \n",
      " 7   Postal Code           15405 non-null  object \n",
      " 8   Country Code          15405 non-null  object \n",
      " 9   Latitude              15405 non-null  float64\n",
      " 10  Longitude             15405 non-null  float64\n",
      " 11  Is Exact Location     15405 non-null  object \n",
      " 12  Property Type         15405 non-null  object \n",
      " 13  Room Type             15405 non-null  object \n",
      " 14  Accomodates           15405 non-null  object \n",
      " 15  Bathrooms             15405 non-null  object \n",
      " 16  Bedrooms              15405 non-null  object \n",
      " 17  Beds                  15405 non-null  object \n",
      " 18  Guests Included       15405 non-null  object \n",
      " 19  Min Nights            15405 non-null  object \n",
      " 20  Reviews               15405 non-null  int64  \n",
      " 21  Overall Rating        15405 non-null  float64\n",
      " 22  Accuracy Rating       15405 non-null  float64\n",
      " 23  Cleanliness Rating    15405 non-null  float64\n",
      " 24  Checkin Rating        15405 non-null  float64\n",
      " 25  Communication Rating  15405 non-null  float64\n",
      " 26  Location Rating       15405 non-null  float64\n",
      " 27  Value Rating          15405 non-null  float64\n",
      " 28  Instant Bookable      15405 non-null  object \n",
      " 29  Price                 15405 non-null  float64\n",
      "dtypes: float64(11), int64(1), object(18)\n",
      "memory usage: 3.6+ MB\n"
     ]
    },
    {
     "name": "stderr",
     "output_type": "stream",
     "text": [
      "<ipython-input-62-b5aaa92fb404>:3: SettingWithCopyWarning: \n",
      "A value is trying to be set on a copy of a slice from a DataFrame\n",
      "\n",
      "See the caveats in the documentation: https://pandas.pydata.org/pandas-docs/stable/user_guide/indexing.html#returning-a-view-versus-a-copy\n",
      "  data_3['Host Response Time'][data_3['Host Response Time'].isnull()] = 'unknown'\n",
      "<ipython-input-62-b5aaa92fb404>:4: SettingWithCopyWarning: \n",
      "A value is trying to be set on a copy of a slice from a DataFrame\n",
      "\n",
      "See the caveats in the documentation: https://pandas.pydata.org/pandas-docs/stable/user_guide/indexing.html#returning-a-view-versus-a-copy\n",
      "  data_3['Host Response Rate'][data_3['Host Response Rate'].isnull()] = 'unknown'\n",
      "<ipython-input-62-b5aaa92fb404>:6: SettingWithCopyWarning: \n",
      "A value is trying to be set on a copy of a slice from a DataFrame\n",
      "\n",
      "See the caveats in the documentation: https://pandas.pydata.org/pandas-docs/stable/user_guide/indexing.html#returning-a-view-versus-a-copy\n",
      "  data_3['Overall Rating'][data_3['Overall Rating'].isnull()] = np.nanmean(data_3['Overall Rating'])\n",
      "<ipython-input-62-b5aaa92fb404>:7: SettingWithCopyWarning: \n",
      "A value is trying to be set on a copy of a slice from a DataFrame\n",
      "\n",
      "See the caveats in the documentation: https://pandas.pydata.org/pandas-docs/stable/user_guide/indexing.html#returning-a-view-versus-a-copy\n",
      "  data_3['Accuracy Rating'][data_3['Accuracy Rating'].isnull()] = np.nanmean(data_3['Accuracy Rating'])\n",
      "<ipython-input-62-b5aaa92fb404>:8: SettingWithCopyWarning: \n",
      "A value is trying to be set on a copy of a slice from a DataFrame\n",
      "\n",
      "See the caveats in the documentation: https://pandas.pydata.org/pandas-docs/stable/user_guide/indexing.html#returning-a-view-versus-a-copy\n",
      "  data_3['Cleanliness Rating'][data_3['Cleanliness Rating'].isnull()] = np.nanmean(data_3['Cleanliness Rating'])\n",
      "<ipython-input-62-b5aaa92fb404>:9: SettingWithCopyWarning: \n",
      "A value is trying to be set on a copy of a slice from a DataFrame\n",
      "\n",
      "See the caveats in the documentation: https://pandas.pydata.org/pandas-docs/stable/user_guide/indexing.html#returning-a-view-versus-a-copy\n",
      "  data_3['Checkin Rating'][data_3['Checkin Rating'].isnull()] = np.nanmean(data_3['Checkin Rating'])\n",
      "<ipython-input-62-b5aaa92fb404>:10: SettingWithCopyWarning: \n",
      "A value is trying to be set on a copy of a slice from a DataFrame\n",
      "\n",
      "See the caveats in the documentation: https://pandas.pydata.org/pandas-docs/stable/user_guide/indexing.html#returning-a-view-versus-a-copy\n",
      "  data_3['Communication Rating'][data_3['Communication Rating'].isnull()] = np.nanmean(data_3['Communication Rating'])\n",
      "<ipython-input-62-b5aaa92fb404>:11: SettingWithCopyWarning: \n",
      "A value is trying to be set on a copy of a slice from a DataFrame\n",
      "\n",
      "See the caveats in the documentation: https://pandas.pydata.org/pandas-docs/stable/user_guide/indexing.html#returning-a-view-versus-a-copy\n",
      "  data_3['Location Rating'][data_3['Location Rating'].isnull()] = np.nanmean(data_3['Location Rating'])\n",
      "<ipython-input-62-b5aaa92fb404>:12: SettingWithCopyWarning: \n",
      "A value is trying to be set on a copy of a slice from a DataFrame\n",
      "\n",
      "See the caveats in the documentation: https://pandas.pydata.org/pandas-docs/stable/user_guide/indexing.html#returning-a-view-versus-a-copy\n",
      "  data_3['Value Rating'][data_3['Value Rating'].isnull()] = np.nanmean(data_3['Value Rating'])\n"
     ]
    }
   ],
   "source": [
    "data_3 = copy.copy(data)\n",
    "\n",
    "data_3['Host Response Time'][data_3['Host Response Time'].isnull()] = 'unknown'\n",
    "data_3['Host Response Rate'][data_3['Host Response Rate'].isnull()] = 'unknown'\n",
    "\n",
    "data_3['Overall Rating'][data_3['Overall Rating'].isnull()] = np.nanmean(data_3['Overall Rating'])\n",
    "data_3['Accuracy Rating'][data_3['Accuracy Rating'].isnull()] = np.nanmean(data_3['Accuracy Rating'])\n",
    "data_3['Cleanliness Rating'][data_3['Cleanliness Rating'].isnull()] = np.nanmean(data_3['Cleanliness Rating'])\n",
    "data_3['Checkin Rating'][data_3['Checkin Rating'].isnull()] = np.nanmean(data_3['Checkin Rating'])\n",
    "data_3['Communication Rating'][data_3['Communication Rating'].isnull()] = np.nanmean(data_3['Communication Rating'])\n",
    "data_3['Location Rating'][data_3['Location Rating'].isnull()] = np.nanmean(data_3['Location Rating'])\n",
    "data_3['Value Rating'][data_3['Value Rating'].isnull()] = np.nanmean(data_3['Value Rating'])\n",
    "\n",
    "data_3 = data_3[~data_3.isnull().any(axis=1)]\n",
    "\n",
    "data_3.info()"
   ]
  }
 ],
 "metadata": {
  "kernelspec": {
   "display_name": "Python 3",
   "language": "python",
   "name": "python3"
  },
  "language_info": {
   "codemirror_mode": {
    "name": "ipython",
    "version": 3
   },
   "file_extension": ".py",
   "mimetype": "text/x-python",
   "name": "python",
   "nbconvert_exporter": "python",
   "pygments_lexer": "ipython3",
   "version": "3.8.5"
  }
 },
 "nbformat": 4,
 "nbformat_minor": 4
}
